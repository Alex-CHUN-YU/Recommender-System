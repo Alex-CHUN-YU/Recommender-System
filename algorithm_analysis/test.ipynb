{
 "cells": [
  {
   "cell_type": "code",
   "execution_count": 1,
   "metadata": {
    "scrolled": false
   },
   "outputs": [
    {
     "name": "stdout",
     "output_type": "stream",
     "text": [
      "Accuracy: 0.96 (+/- 0.04) [Logistic Regression]\n",
      "Accuracy: 0.97 (+/- 0.02) [Random Forest]\n",
      "Accuracy: 0.95 (+/- 0.03) [naive Bayes]\n",
      "Accuracy: 0.98 (+/- 0.02) [SVC]\n",
      "Accuracy: 0.98 (+/- 0.02) [Knn]\n",
      "Accuracy: 0.96 (+/- 0.03) [Decision Tree]\n",
      "Accuracy: 0.95 (+/- 0.03) [Ensemble]\n"
     ]
    }
   ],
   "source": [
    "__author__ = \"ALEX-CHUN-YU (P76064538@mail.ncku.edu.tw)\"\n",
    "from sklearn import datasets\n",
    "from sklearn.model_selection import cross_val_score\n",
    "from sklearn.linear_model import LogisticRegression\n",
    "from sklearn.naive_bayes import GaussianNB\n",
    "from sklearn.svm import SVC\n",
    "from sklearn.neighbors import KNeighborsClassifier\n",
    "from sklearn.tree import DecisionTreeClassifier\n",
    "from sklearn.ensemble import RandomForestClassifier\n",
    "from sklearn.ensemble import VotingClassifier\n",
    "import warnings\n",
    "\n",
    "warnings.filterwarnings(action = 'ignore', category = DeprecationWarning)\n",
    "iris = datasets.load_iris()\n",
    "X, y = iris.data, iris.target\n",
    "\n",
    "clf1 = LogisticRegression(random_state = 1)\n",
    "clf2 = RandomForestClassifier(random_state = 1)\n",
    "clf3 = GaussianNB()\n",
    "clf4 = SVC(kernel = 'rbf', probability = True)\n",
    "clf5 = KNeighborsClassifier(n_neighbors = 7)\n",
    "clf6 = DecisionTreeClassifier(max_depth = 4)\n",
    "eclf = VotingClassifier(estimators=[('dt', clf1), ('knn', clf2), ('svc', clf3)], voting = 'soft',\n",
    "\t\t\t\t\t\t weights = [2,1,2])\n",
    "\n",
    "clfs = [clf1, clf2, clf3, clf4, clf5, clf6, eclf]\n",
    "name = ['Logistic Regression', 'Random Forest', 'naive Bayes', 'SVC', 'Knn', 'Decision Tree', 'Ensemble']\n",
    "\n",
    "for clf, label in zip(clfs, name):\n",
    "    scores = cross_val_score(clf, X, y, cv = 5, scoring = 'accuracy')\n",
    "    print(\"Accuracy: %0.2f (+/- %0.2f) [%s]\" % (scores.mean(), scores.std(), label))"
   ]
  },
  {
   "cell_type": "code",
   "execution_count": 5,
   "metadata": {},
   "outputs": [
    {
     "name": "stdout",
     "output_type": "stream",
     "text": [
      "--------------------\n",
      "K Nearest Neighbor:\n",
      "n_neighbors: 1\n",
      "accuracy: 0.9889595013894127\n",
      "normalization: False\n",
      "unknown data predictive score:0.9955555555555555\n",
      "--------------------\n",
      "Support Vector Machine:\n",
      "C: 10\n",
      "kernel: poly\n",
      "gamma: auto\n",
      "accuracy: 0.985894580549369\n",
      "normalization: False\n",
      "unknown data predictive score:0.9977777777777778\n",
      "--------------------\n",
      "Naive Bayes:\n",
      "accuracy: 0.8058119456224043\n",
      "unknown data predictive score:0.8155555555555556\n",
      "--------------------\n",
      "Multinomial Naive Bayes:\n",
      "accuracy: 0.9089311235580366\n",
      "normalization: False\n",
      "unknown data predictive score:0.8955555555555555\n",
      "--------------------\n",
      "Random Forest Classifier:\n",
      "n_estimators: 1000\n",
      "criterion: gini\n",
      "max_features: auto\n",
      "accuracy: 0.9792130660727543\n",
      "normalization: False\n",
      "unknown data predictive score:0.9888888888888889\n"
     ]
    }
   ],
   "source": [
    "__author__ = \"ALEX-CHUN-YU (P76064538@mail.ncku.edu.tw)\"\n",
    "from classification import Classification\n",
    "from sklearn.model_selection import train_test_split\n",
    "import sklearn.datasets as ds\n",
    "\n",
    "# data sampling 必須是 cv(default = 10) * class number 以上\n",
    "# 如果是使用 knn,data sampling 必須大於設定的 n(default = 40) 值 \n",
    "X, y = ds.load_digits().data, ds.load_digits().target\n",
    "# 如果是 4 筆資料，1 筆測試，3 筆訓練\n",
    "X_train, X_test, y_train, y_test = train_test_split(X, y, test_size = 0.25)\n",
    "clf = Classification(X_train, y_train)\n",
    "# 已有 Model 可以註解掉(model test data dimension and train data dimension must same!)\n",
    "#clf.knn()\n",
    "#clf.svm()\n",
    "#clf.nb()\n",
    "#clf.mnb()\n",
    "#clf.rfc()\n",
    "clf.find_best_estimator(X_test, y_test)\n"
   ]
  },
  {
   "cell_type": "code",
   "execution_count": null,
   "metadata": {},
   "outputs": [],
   "source": []
  }
 ],
 "metadata": {
  "kernelspec": {
   "display_name": "Python 3",
   "language": "python",
   "name": "python3"
  },
  "language_info": {
   "codemirror_mode": {
    "name": "ipython",
    "version": 3
   },
   "file_extension": ".py",
   "mimetype": "text/x-python",
   "name": "python",
   "nbconvert_exporter": "python",
   "pygments_lexer": "ipython3",
   "version": "3.5.2"
  }
 },
 "nbformat": 4,
 "nbformat_minor": 2
}
